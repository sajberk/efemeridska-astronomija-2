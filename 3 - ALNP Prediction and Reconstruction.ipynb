{
 "cells": [
  {
   "cell_type": "markdown",
   "id": "28a05f9e",
   "metadata": {},
   "source": [
    "# Predikcija i rekonstrukcija nedostajućih tačaka\n",
    "\n",
    "Ova sveska koristi ALNP model obučen u prethodnom notebooku za generisanje predikcija (rekonstrukcija) svetlosnih kriva i ekstrakciju naučenih latentnih reprezentacija."
   ]
  },
  {
   "cell_type": "code",
   "execution_count": null,
   "id": "266076cc",
   "metadata": {},
   "outputs": [],
   "source": [
    "import QNPy_Latte.PREDICTION as por \n",
    "from QNPy_Latte.PREDICTION import * \n",
    "from QNPy_Latte.PREDICTION import plot_function2, back_x, back_y, find_LC_transform\n",
    "\n",
    "import os\n",
    "import pickle\n",
    "import numpy as np\n",
    "import pandas as pd\n",
    "import torch\n",
    "import matplotlib.pyplot as plt\n",
    "import matplotlib.image as mpimg\n",
    "import glob\n",
    "\n",
    "# prikazivanje plotova inline\n",
    "%matplotlib inline"
   ]
  },
  {
   "cell_type": "markdown",
   "id": "1e41d2fd",
   "metadata": {},
   "source": [
    "## 1. Priprema putanja i učitavanje modela\n",
    "\n",
    "Ovde definišemo sve parametre i putanje potrebne za učitavanje modela, podataka i koeficijenata, kao i za čuvanje rezultata."
   ]
  },
  {
   "cell_type": "code",
   "execution_count": null,
   "id": "7d6b17a3",
   "metadata": {},
   "outputs": [],
   "source": [
    "full_folder = \"output\"\n",
    "\n",
    "# Putanje do podataka\n",
    "DATA_PATH_TRAIN = os.path.join(full_folder, f\"dataset_LCs\", \"train\")\n",
    "DATA_PATH_VAL = os.path.join(full_folder, f\"dataset_LCs\", \"val\")\n",
    "DATA_PATH_TEST = os.path.join(full_folder, f\"dataset_LCs\", \"test\")\n",
    "\n",
    "# Putanja do modela\n",
    "MODEL_PATH = os.path.join(full_folder, f\"output_LCs\", f\"model_LCs.pth\") \n",
    "\n",
    "# Putanja do koeficijenata\n",
    "TR_COEFF_PATH = os.path.join(full_folder, 'TR_Coeffs', f'trcoeff_LCs.pickle')\n",
    "\n",
    "# Izlazni direktorijum\n",
    "OUTPUT_PATH = os.path.join(full_folder, f'output_LCs', 'predictions/')\n",
    "\n",
    "os.makedirs(OUTPUT_PATH, exist_ok=True)"
   ]
  },
  {
   "cell_type": "markdown",
   "id": "79ef3a22",
   "metadata": {},
   "source": [
    "Neophodno je ponovo definisati hiperparametre koji definišu arhitekturu modela, identično kao u training notebooku, da bi se model mogao pravilno učitati"
   ]
  },
  {
   "cell_type": "code",
   "execution_count": null,
   "id": "define-hyperparams-again",
   "metadata": {
    "tags": []
   },
   "outputs": [],
   "source": [
    "# Hiperparametri arhitekture\n",
    "encoding_size = 128\n",
    "latent_size = 128\n",
    "no_latent_samples = 10 \n",
    "attention_type = 'scaledot'\n",
    "cross_attention = True\n",
    "self_attention = True\n",
    "lstm_layers = 0\n",
    "lstm_size = 32\n",
    "replace_lstm_with_gru = False\n",
    "bidirectional = False\n",
    "lstm_agg = False \n",
    "activation = 'relu'\n",
    "device = torch.device(\"cuda\" if torch.cuda.is_available() else \"cpu\")\n",
    "transfer_function_length = 0\n",
    "param_length = 0 \n",
    "\n",
    "tf_and_param = False\n",
    "TF_PATH = None\n",
    "param_df = None\n",
    "param_columns = []\n",
    "beta_param = 0\n",
    "beta_tf = 0\n",
    "\n",
    "print(f\"Hiperparametri za učitavanje modela definisani.\")"
   ]
  },
  {
   "cell_type": "markdown",
   "id": "f4913a3a",
   "metadata": {},
   "source": [
    "Učitavamo učitamo model.pth fajl u odgovarajuću arhitekturu definisanu hiperparametrima."
   ]
  },
  {
   "cell_type": "code",
   "execution_count": null,
   "id": "48d88fa0",
   "metadata": {},
   "outputs": [],
   "source": [
    "# Učitavanje modela\n",
    "model = por.load_trained_model(\n",
    "    MODEL_PATH, \n",
    "    device, \n",
    "    encoding_size,\n",
    "    latent_size, \n",
    "    latent_mlp_size=encoding_size, \n",
    "    attention=cross_attention, \n",
    "    self_attention=self_attention, \n",
    "    no_latent_space_sample=no_latent_samples, \n",
    "    lstm_layers=lstm_layers, \n",
    "    lstm_agg=lstm_agg, \n",
    "    lstm_size=lstm_size, \n",
    "    transfer_function_length=transfer_function_length, \n",
    "    parameters_length=param_length, \n",
    "    classes=0, \n",
    "    replace_lstm_with_gru=replace_lstm_with_gru,\n",
    "    activation=activation, \n",
    "    bidirectional=bidirectional,\n",
    "    attention_type=attention_type\n",
    ")\n",
    "\n",
    "# Postavljanje modela u evaluacioni mod\n",
    "model.eval()\n",
    "\n",
    "# Učitavanje kriterijuma/metrika\n",
    "criterion, mseMetric = por.get_criteria()\n",
    "\n",
    "# Učitavanje koeficijenata\n",
    "tr_coeffs = por.load_trcoeff(TR_COEFF_PATH)"
   ]
  },
  {
   "cell_type": "markdown",
   "id": "acc84f68",
   "metadata": {},
   "source": [
    "Kreiramo DataLoadere za `train`, `val` i `test` skupove."
   ]
  },
  {
   "cell_type": "code",
   "execution_count": null,
   "id": "e27c0c31",
   "metadata": {},
   "outputs": [],
   "source": [
    "# Broj tačaka za glatku predikciju na plotu\n",
    "num_target_smooth = 1000 \n",
    "# Batch size za evaluaciju (obično 1)\n",
    "eval_batch_size = 1 \n",
    "\n",
    "# Kreiranje DataLoadera\n",
    "trainLoader = por.load_train_data(DATA_PATH_TRAIN, num_target_smooth=num_target_smooth, tf_dir=TF_PATH, param_df=param_df, param_columns=param_columns, class_labels_df=None)\n",
    "valLoader = por.load_val_data(DATA_PATH_VAL, num_target_smooth=num_target_smooth, tf_dir=TF_PATH, param_df=param_df, param_columns=param_columns, class_labels_df=None)\n",
    "testLoader = por.load_test_data(DATA_PATH_TEST, num_target_smooth=num_target_smooth, tf_dir=TF_PATH, param_df=param_df, param_columns=param_columns, class_labels_df=None)"
   ]
  },
  {
   "cell_type": "markdown",
   "id": "9af35869",
   "metadata": {},
   "source": [
    "## 2. Generisanje predikcija i ekstrakcija reprezentacija\n",
    "\n",
    "Pokrećemo model na svakom skupu podataka. Funkcije plot_... će generisati plotove, izračunati metrike i vratiti latentne reprezentacije."
   ]
  },
  {
   "cell_type": "markdown",
   "id": "100b29f4",
   "metadata": {},
   "source": [
    "Inicijalizujemo liste za rezultate"
   ]
  },
  {
   "cell_type": "code",
   "execution_count": null,
   "id": "d2ea4188",
   "metadata": {},
   "outputs": [],
   "source": [
    "all_names_nested = [] \n",
    "all_z_nested = []     \n",
    "all_R_nested = []     \n",
    "all_full_rep_nested = [] \n",
    "\n",
    "all_predicted_tfs = [] \n",
    "all_predicted_params = []"
   ]
  },
  {
   "cell_type": "markdown",
   "id": "8c9204ca",
   "metadata": {},
   "source": [
    "Prvo obrađujemo test skup:"
   ]
  },
  {
   "cell_type": "code",
   "execution_count": null,
   "id": "7d008672",
   "metadata": {},
   "outputs": [],
   "source": [
    "current_names_test = []\n",
    "for i, batch in enumerate(testLoader):\n",
    "    lcName = batch.get('lcName', [f'unknown_test_{i}'])[0]\n",
    "    current_names_test.append(lcName.split('_')[0])\n",
    "\n",
    "testMetrics, z_test, R_test, agg_R_z_test, predicted_params_test, predicted_tf_test, predicted_classes = \\\n",
    "    por.plot_test_data(\n",
    "        model, \n",
    "        testLoader, \n",
    "        criterion, \n",
    "        mseMetric, \n",
    "        plot_function2, \n",
    "        device=device, \n",
    "        tr=tr_coeffs, \n",
    "        OUTPUT_PATH=OUTPUT_PATH, \n",
    "        beta_param=beta_param, \n",
    "        beta_classifier=0, \n",
    "        beta_tf=beta_tf\n",
    "    )\n",
    "\n",
    "all_z_nested.append(z_test)\n",
    "all_R_nested.append(R_test)\n",
    "all_full_rep_nested.append(agg_R_z_test)\n",
    "all_names_nested.append(current_names_test)\n",
    "all_predicted_tfs.append(predicted_tf_test)\n",
    "all_predicted_params.append(predicted_params_test)\n",
    "\n",
    "# Čuvanje metrika za Test skup\n",
    "savetest_status = por.save_test_metrics(OUTPUT_PATH, testMetrics)"
   ]
  },
  {
   "cell_type": "markdown",
   "id": "c48a8588",
   "metadata": {},
   "source": [
    "Zatim i za train skup:"
   ]
  },
  {
   "cell_type": "code",
   "execution_count": null,
   "id": "581f75fd",
   "metadata": {},
   "outputs": [],
   "source": [
    "current_names_train = []\n",
    "for i, batch in enumerate(trainLoader):\n",
    "    lcName = batch.get('lcName', [f'unknown_train_{i}'])[0]\n",
    "    current_names_train.append(lcName.split('_')[0])\n",
    "\n",
    "trainMetrics, z_train, R_train, agg_R_z_train, predicted_params_train, predicted_tf_train, predicted_classes = \\\n",
    "    por.plot_train_light_curves(\n",
    "        model, \n",
    "        trainLoader, \n",
    "        criterion, \n",
    "        mseMetric, \n",
    "        plot_function2, \n",
    "        device, \n",
    "        tr_coeffs, \n",
    "        OUTPUT_PATH, \n",
    "        beta_param=beta_param, \n",
    "        beta_classifier=0, \n",
    "        beta_tf=beta_tf\n",
    "    )\n",
    "\n",
    "all_z_nested.append(z_train)\n",
    "all_R_nested.append(R_train)\n",
    "all_full_rep_nested.append(agg_R_z_train)\n",
    "all_names_nested.append(current_names_train)\n",
    "all_predicted_tfs.append(predicted_tf_train)\n",
    "all_predicted_params.append(predicted_params_train)\n",
    "\n",
    "# Čuvanje metrika za Train skup\n",
    "savetrain_status = por.save_train_metrics(OUTPUT_PATH, trainMetrics)"
   ]
  },
  {
   "cell_type": "markdown",
   "id": "2586855d",
   "metadata": {},
   "source": [
    "Na kraju, identičan proces i za validacioni skup:"
   ]
  },
  {
   "cell_type": "code",
   "execution_count": null,
   "id": "2ca3aeb9",
   "metadata": {},
   "outputs": [],
   "source": [
    "current_names_val = []\n",
    "for i, batch in enumerate(valLoader):\n",
    "    lcName = batch.get('lcName', [f'unknown_val_{i}'])[0]\n",
    "    current_names_val.append(lcName.split('_')[0])\n",
    "\n",
    "valMetrics, z_val, R_val, agg_R_z_val, predicted_params_val, predicted_tf_val, predicted_classes = \\\n",
    "    por.plot_val_curves(\n",
    "        model, \n",
    "        valLoader, \n",
    "        criterion, \n",
    "        mseMetric, \n",
    "        plot_function2, \n",
    "        device, \n",
    "        tr_coeffs, \n",
    "        OUTPUT_PATH, \n",
    "        beta_param=beta_param, \n",
    "        beta_classifier=0, \n",
    "        beta_tf=beta_tf\n",
    "    )\n",
    "\n",
    "all_z_nested.append(z_val)\n",
    "all_R_nested.append(R_val)\n",
    "all_full_rep_nested.append(agg_R_z_val)\n",
    "all_names_nested.append(current_names_val)\n",
    "all_predicted_tfs.append(predicted_tf_val)\n",
    "all_predicted_params.append(predicted_params_val)\n",
    "\n",
    "# Nema posebne funkcije za čuvanje val metrika, preskačemo"
   ]
  },
  {
   "cell_type": "markdown",
   "id": "e8df835f",
   "metadata": {},
   "source": [
    "Čuvamo prikupljene reprezentacije (`R`, `Z`, kombinovane) i imena u `.pickle` fajlove za kasniju analizu."
   ]
  },
  {
   "cell_type": "code",
   "execution_count": null,
   "id": "bc612d20",
   "metadata": {},
   "outputs": [],
   "source": [
    "# Čuvanje reprezentacija i imena\n",
    "with open(f'LCs_Rs.pickle', 'wb') as handle:\n",
    "    pickle.dump(all_R_nested, handle)\n",
    "    \n",
    "with open(f'LCs_zs.pickle', 'wb') as handle:\n",
    "    pickle.dump(all_z_nested, handle)\n",
    "    \n",
    "with open(f'LCs_full_reps.pickle', 'wb') as handle:\n",
    "    pickle.dump(all_full_rep_nested, handle)\n",
    "    \n",
    "with open(f'LCs_names.pickle', 'wb') as handle:\n",
    "    pickle.dump(all_names_nested, handle)\n",
    "\n",
    "print(f\"Reprezentacije R, Z, Full i imena sačuvane u .pickle fajlove sa prefiksom: LCs\")"
   ]
  },
  {
   "cell_type": "markdown",
   "id": "7b68a163",
   "metadata": {},
   "source": [
    "## 3. Vizuelizacija i analiza uspešnosti rekonstrukcije\n",
    "\n",
    "Prikazujemo jedan od sačuvanih plotova (npr. iz test skupa) da vizuelno proverimo rekonstrukciju i intervale poverenja."
   ]
  },
  {
   "cell_type": "code",
   "execution_count": null,
   "id": "show-plot-inline",
   "metadata": {},
   "outputs": [],
   "source": [
    "plot_directory = os.path.join(OUTPUT_PATH, 'test', 'plots') \n",
    "plot_files = glob.glob(os.path.join(plot_directory, '*.png'))\n",
    "\n",
    "# uzimamo prvi plot\n",
    "print(f\"Prikazujem plot: {plot_files[0]}\")\n",
    "img = mpimg.imread(plot_files[0])\n",
    "plt.figure(figsize=(10, 6))\n",
    "plt.imshow(img)\n",
    "plt.axis('off') \n",
    "plt.title(f\"Primer Rekonstrukcije sa Intervalima Poverenja\\n(Fajl: {os.path.basename( plot_files[0])})\")\n",
    "plt.show()"
   ]
  }
 ],
 "metadata": {
  "kernelspec": {
   "display_name": "efem2_env",
   "language": "python",
   "name": "python3"
  },
  "language_info": {
   "codemirror_mode": {
    "name": "ipython",
    "version": 3
   },
   "file_extension": ".py",
   "mimetype": "text/x-python",
   "name": "python",
   "nbconvert_exporter": "python",
   "pygments_lexer": "ipython3",
   "version": "3.9.24"
  }
 },
 "nbformat": 4,
 "nbformat_minor": 5
}
